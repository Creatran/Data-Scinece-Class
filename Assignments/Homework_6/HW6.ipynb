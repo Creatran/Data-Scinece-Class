{
 "cells": [
  {
   "cell_type": "markdown",
   "metadata": {},
   "source": [
    "Homework 6  \n",
    "\n",
    "Tianran Zhang\n",
    "\n",
    "The github repository for this Homework is :https://github.com/Creatran/Homework_6.git"
   ]
  },
  {
   "cell_type": "markdown",
   "metadata": {},
   "source": [
    "1. Generate simulated data, and then perform PCA and K-means clustering on the data.  \n",
    "\n",
    "a. Grnrrate a simulated data set with 20 observations in each of three classes (i.e. 60 observations total), and 50 variables."
   ]
  },
  {
   "cell_type": "code",
   "execution_count": 35,
   "metadata": {},
   "outputs": [],
   "source": [
    "import numpy as np\n",
    "import pandas as pd"
   ]
  },
  {
   "cell_type": "code",
   "execution_count": 28,
   "metadata": {},
   "outputs": [],
   "source": [
    "rng = np.random.RandomState(1)\n",
    "def sim_class(n, p, m, s):\n",
    "    return np.dot(rng.rand(p, p), m + s * rng.randn(p, n)).T\n",
    "    # np.random.seed(0)\n",
    "    # return np.random.normal(1, m, (n, p))\n",
    "X1 = sim_class(20, 50, 1, 5)\n",
    "X2 = sim_class(20, 50, 2, 5)\n",
    "X3 = sim_class(20, 50, 3, 5)\n",
    "X = np.concatenate([X1, X2, X3])\n",
    "\n",
    "y_true = np.concatenate([np.repeat(0, 20), np.repeat(1, 20), np.repeat(2, 20)])"
   ]
  },
  {
   "cell_type": "markdown",
   "metadata": {},
   "source": [
    "b. Perform PCA on the 60 observations and plot the first two principal component score vectors. Use a different color to indicate the observations in each of the three classes."
   ]
  },
  {
   "cell_type": "code",
   "execution_count": 29,
   "metadata": {},
   "outputs": [],
   "source": [
    "from sklearn.decomposition import PCA\n",
    "import matplotlib.pyplot as plt \n",
    "\n",
    "pca = PCA(n_components=2)\n",
    "pca.fit(X)\n",
    "\n",
    "pca_scores = pca.fit_transform(X)"
   ]
  },
  {
   "cell_type": "code",
   "execution_count": 116,
   "metadata": {},
   "outputs": [
    {
     "data": {
      "image/png": "[encoded data removed]",
      "text/plain": [
       "<Figure size 432x288 with 1 Axes>"
      ]
     },
     "metadata": {
      "needs_background": "light"
     },
     "output_type": "display_data"
    }
   ],
   "source": [
    "from sklearn.preprocessing import LabelEncoder\n",
    "LE = LabelEncoder()\n",
    "\n",
    "ax = plt.gca()\n",
    "\n",
    "color = {0: 'g', 1: 'y', 2: 'b'}\n",
    "for item, value in color.items():\n",
    "    ax.scatter(pca_scores[:, 0][y_true == item], pca_scores[:, 1][y_true == item],\n",
    "               c = value, label = 'group ' + str(item) , s = 18)\n",
    "ax.legend(markerscale = 2, fontsize = 15)    \n",
    "plt.xlabel(\"PC 1\")\n",
    "plt.ylabel(\"PC 2\")\n",
    "plt.title(\"The first two principal components score vectors\", fontsize = 15)\n",
    "plt.show()"
   ]
  },
  {
   "cell_type": "markdown",
   "metadata": {},
   "source": [
    "c. Perform K-means clustering of the observations with K = 3. How well do the clusters that you obtained in K-means clustering compare to the true class labels?"
   ]
  },
  {
   "cell_type": "code",
   "execution_count": 108,
   "metadata": {},
   "outputs": [
    {
     "data": {
      "text/html": [
       "<div>\n",
       "<style scoped>\n",
       "    .dataframe tbody tr th:only-of-type {\n",
       "        vertical-align: middle;\n",
       "    }\n",
       "\n",
       "    .dataframe tbody tr th {\n",
       "        vertical-align: top;\n",
       "    }\n",
       "\n",
       "    .dataframe thead th {\n",
       "        text-align: right;\n",
       "    }\n",
       "</style>\n",
       "<table border=\"1\" class=\"dataframe\">\n",
       "  <thead>\n",
       "    <tr style=\"text-align: right;\">\n",
       "      <th></th>\n",
       "      <th>Clustering Group 0</th>\n",
       "      <th>Clustering Group 1</th>\n",
       "      <th>Clustering Group 2</th>\n",
       "    </tr>\n",
       "  </thead>\n",
       "  <tbody>\n",
       "    <tr>\n",
       "      <th>Group 0</th>\n",
       "      <td>0</td>\n",
       "      <td>12</td>\n",
       "      <td>8</td>\n",
       "    </tr>\n",
       "    <tr>\n",
       "      <th>Group 1</th>\n",
       "      <td>3</td>\n",
       "      <td>15</td>\n",
       "      <td>2</td>\n",
       "    </tr>\n",
       "    <tr>\n",
       "      <th>Group 2</th>\n",
       "      <td>18</td>\n",
       "      <td>2</td>\n",
       "      <td>0</td>\n",
       "    </tr>\n",
       "  </tbody>\n",
       "</table>\n",
       "</div>"
      ],
      "text/plain": [
       "         Clustering Group 0  Clustering Group 1  Clustering Group 2\n",
       "Group 0                   0                  12                   8\n",
       "Group 1                   3                  15                   2\n",
       "Group 2                  18                   2                   0"
      ]
     },
     "execution_count": 108,
     "metadata": {},
     "output_type": "execute_result"
    }
   ],
   "source": [
    "from sklearn.cluster import KMeans\n",
    "\n",
    "kmeans_3 =KMeans(n_clusters = 3)\n",
    "kmeans_3.fit(X)\n",
    "\n",
    "y_kmeans_3 = kmeans_3.predict(X)\n",
    "outcome = pd.crosstab(y_true, y_kmeans_3)\n",
    "outcome.columns = ['Clustering Group 0', 'Clustering Group 1', 'Clustering Group 2']\n",
    "outcome.index = ['Group 0', 'Group 1', 'Group 2']\n",
    "outcome"
   ]
  },
  {
   "cell_type": "markdown",
   "metadata": {},
   "source": [
    "K-means clustering of the observations perfroms well in group 2 (almost all the items in group 2 are clusterded in one group), but not as well in the first two groups. The items in group 0 are divided into two groups (clustering group 1 and clustering group 2). Most items in group 1 are clusteredd in clustering group 1, whilt others are clustered in clustering group2 and clustering group 0."
   ]
  },
  {
   "cell_type": "markdown",
   "metadata": {},
   "source": [
    "d. Perform K-means clustering with K = 2. Describe your results."
   ]
  },
  {
   "cell_type": "code",
   "execution_count": 111,
   "metadata": {},
   "outputs": [
    {
     "data": {
      "text/html": [
       "<div>\n",
       "<style scoped>\n",
       "    .dataframe tbody tr th:only-of-type {\n",
       "        vertical-align: middle;\n",
       "    }\n",
       "\n",
       "    .dataframe tbody tr th {\n",
       "        vertical-align: top;\n",
       "    }\n",
       "\n",
       "    .dataframe thead th {\n",
       "        text-align: right;\n",
       "    }\n",
       "</style>\n",
       "<table border=\"1\" class=\"dataframe\">\n",
       "  <thead>\n",
       "    <tr style=\"text-align: right;\">\n",
       "      <th></th>\n",
       "      <th>Clustering Group 0</th>\n",
       "      <th>Clustering Group 1</th>\n",
       "    </tr>\n",
       "  </thead>\n",
       "  <tbody>\n",
       "    <tr>\n",
       "      <th>Group 0</th>\n",
       "      <td>20</td>\n",
       "      <td>0</td>\n",
       "    </tr>\n",
       "    <tr>\n",
       "      <th>Group 1</th>\n",
       "      <td>17</td>\n",
       "      <td>3</td>\n",
       "    </tr>\n",
       "    <tr>\n",
       "      <th>Group 2</th>\n",
       "      <td>1</td>\n",
       "      <td>19</td>\n",
       "    </tr>\n",
       "  </tbody>\n",
       "</table>\n",
       "</div>"
      ],
      "text/plain": [
       "         Clustering Group 0  Clustering Group 1\n",
       "Group 0                  20                   0\n",
       "Group 1                  17                   3\n",
       "Group 2                   1                  19"
      ]
     },
     "execution_count": 111,
     "metadata": {},
     "output_type": "execute_result"
    }
   ],
   "source": [
    "kmeans_2 =KMeans(n_clusters = 2)\n",
    "kmeans_2.fit(X)\n",
    "y_kmeans_2 = kmeans_2.predict(X)\n",
    "\n",
    "outcome = pd.crosstab(y_true, y_kmeans_2)\n",
    "outcome.columns = ['Clustering Group 0', 'Clustering Group 1']\n",
    "outcome.index = ['Group 0', 'Group 1', 'Group 2']\n",
    "outcome"
   ]
  },
  {
   "cell_type": "markdown",
   "metadata": {},
   "source": [
    "K-means clustering with K = 2 performs well group 2. Almost all the items in group 2 were clustered in one group. However, some the items in group 0 and group 1 ware clustered into one group due to the lack of clusters."
   ]
  },
  {
   "cell_type": "markdown",
   "metadata": {},
   "source": [
    "e. Now perform K-means clusterin with K = 4, and describe your results."
   ]
  },
  {
   "cell_type": "code",
   "execution_count": 112,
   "metadata": {},
   "outputs": [
    {
     "data": {
      "text/html": [
       "<div>\n",
       "<style scoped>\n",
       "    .dataframe tbody tr th:only-of-type {\n",
       "        vertical-align: middle;\n",
       "    }\n",
       "\n",
       "    .dataframe tbody tr th {\n",
       "        vertical-align: top;\n",
       "    }\n",
       "\n",
       "    .dataframe thead th {\n",
       "        text-align: right;\n",
       "    }\n",
       "</style>\n",
       "<table border=\"1\" class=\"dataframe\">\n",
       "  <thead>\n",
       "    <tr style=\"text-align: right;\">\n",
       "      <th></th>\n",
       "      <th>Clustering Group 0</th>\n",
       "      <th>Clustering Group 1</th>\n",
       "      <th>Clustering Group 2</th>\n",
       "      <th>Clustering Group 3</th>\n",
       "    </tr>\n",
       "  </thead>\n",
       "  <tbody>\n",
       "    <tr>\n",
       "      <th>Group 0</th>\n",
       "      <td>0</td>\n",
       "      <td>8</td>\n",
       "      <td>12</td>\n",
       "      <td>0</td>\n",
       "    </tr>\n",
       "    <tr>\n",
       "      <th>Group 1</th>\n",
       "      <td>1</td>\n",
       "      <td>2</td>\n",
       "      <td>15</td>\n",
       "      <td>2</td>\n",
       "    </tr>\n",
       "    <tr>\n",
       "      <th>Group 2</th>\n",
       "      <td>7</td>\n",
       "      <td>0</td>\n",
       "      <td>2</td>\n",
       "      <td>11</td>\n",
       "    </tr>\n",
       "  </tbody>\n",
       "</table>\n",
       "</div>"
      ],
      "text/plain": [
       "         Clustering Group 0  Clustering Group 1  Clustering Group 2  \\\n",
       "Group 0                   0                   8                  12   \n",
       "Group 1                   1                   2                  15   \n",
       "Group 2                   7                   0                   2   \n",
       "\n",
       "         Clustering Group 3  \n",
       "Group 0                   0  \n",
       "Group 1                   2  \n",
       "Group 2                  11  "
      ]
     },
     "execution_count": 112,
     "metadata": {},
     "output_type": "execute_result"
    }
   ],
   "source": [
    "kmeans_4 =KMeans(n_clusters = 4)\n",
    "kmeans_4.fit(X)\n",
    "y_kmeans_4 = kmeans_4.predict(X)\n",
    "\n",
    "outcome = pd.crosstab(y_true, y_kmeans_4)\n",
    "outcome.columns = ['Clustering Group 0', 'Clustering Group 1', \n",
    "                   'Clustering Group 2', 'Clustering Group 3']\n",
    "outcome.index = ['Group 0', 'Group 1', 'Group 2']\n",
    "outcome"
   ]
  },
  {
   "cell_type": "markdown",
   "metadata": {},
   "source": [
    "K-means clustering with K = 4 performs not as well as the former two clusterings. It breaks the three groups into 4 groups. More than half items in group0 and group 1 were clustered in one group (Clustering group 2). The left over items in group0 and group1 were clustered in another group (Clustering group 1). Group2 were divided into two groups (Clustering group 0 and Clustering group 3)."
   ]
  },
  {
   "cell_type": "markdown",
   "metadata": {},
   "source": [
    "f. Now perform K-means clustering with K = 3 on the first two principal component score vectors, rather than on the raw data. That is, perform K-means clustering on the 60 * 2 matrix of which the first column is the first principal component score vector, and the second column is the second principal component score vector. Comment on the results."
   ]
  },
  {
   "cell_type": "code",
   "execution_count": 113,
   "metadata": {},
   "outputs": [
    {
     "data": {
      "text/html": [
       "<div>\n",
       "<style scoped>\n",
       "    .dataframe tbody tr th:only-of-type {\n",
       "        vertical-align: middle;\n",
       "    }\n",
       "\n",
       "    .dataframe tbody tr th {\n",
       "        vertical-align: top;\n",
       "    }\n",
       "\n",
       "    .dataframe thead th {\n",
       "        text-align: right;\n",
       "    }\n",
       "</style>\n",
       "<table border=\"1\" class=\"dataframe\">\n",
       "  <thead>\n",
       "    <tr style=\"text-align: right;\">\n",
       "      <th></th>\n",
       "      <th>Clustering Group 0</th>\n",
       "      <th>Clustering Group 1</th>\n",
       "      <th>Clustering Group 2</th>\n",
       "    </tr>\n",
       "  </thead>\n",
       "  <tbody>\n",
       "    <tr>\n",
       "      <th>Group 0</th>\n",
       "      <td>0</td>\n",
       "      <td>9</td>\n",
       "      <td>11</td>\n",
       "    </tr>\n",
       "    <tr>\n",
       "      <th>Group 1</th>\n",
       "      <td>3</td>\n",
       "      <td>3</td>\n",
       "      <td>14</td>\n",
       "    </tr>\n",
       "    <tr>\n",
       "      <th>Group 2</th>\n",
       "      <td>18</td>\n",
       "      <td>0</td>\n",
       "      <td>2</td>\n",
       "    </tr>\n",
       "  </tbody>\n",
       "</table>\n",
       "</div>"
      ],
      "text/plain": [
       "         Clustering Group 0  Clustering Group 1  Clustering Group 2\n",
       "Group 0                   0                   9                  11\n",
       "Group 1                   3                   3                  14\n",
       "Group 2                  18                   0                   2"
      ]
     },
     "execution_count": 113,
     "metadata": {},
     "output_type": "execute_result"
    }
   ],
   "source": [
    "kmeans_pca =KMeans(n_clusters = 3)\n",
    "kmeans_pca.fit(pca_scores)\n",
    "y_kmeans_pca = kmeans_pca.predict(pca_scores)\n",
    "\n",
    "outcome = pd.crosstab(y_true, y_kmeans_pca)\n",
    "outcome.columns = ['Clustering Group 0', 'Clustering Group 1', \n",
    "                   'Clustering Group 2']\n",
    "outcome.index = ['Group 0', 'Group 1', 'Group 2']\n",
    "outcome"
   ]
  },
  {
   "cell_type": "markdown",
   "metadata": {},
   "source": [
    "The results are similar to that in K-means clustering with K = 3 on the original data. It  perfroms well in group2 that most of its items are clustered in one group. But the most of the items in group 0 and group 1 are clustered in one group (Clustering group 2). It appears as though PCA produces a low-dimensional representation of the original dataset but does not drop much information."
   ]
  },
  {
   "cell_type": "markdown",
   "metadata": {},
   "source": [
    "g. Using the scale() function, perform K-means clustering with K = 3 on the data after scaling each variable to have standard deviattion one. How do these results compare to those obtained in (c)? Explain."
   ]
  },
  {
   "cell_type": "code",
   "execution_count": 24,
   "metadata": {},
   "outputs": [],
   "source": [
    "from sklearn.preprocessing import StandardScaler\n",
    "\n",
    "scaler = StandardScaler()\n",
    "scaler.fit(X)\n",
    "x_scaled = scaler.transform(X)"
   ]
  },
  {
   "cell_type": "code",
   "execution_count": 114,
   "metadata": {},
   "outputs": [
    {
     "data": {
      "text/html": [
       "<div>\n",
       "<style scoped>\n",
       "    .dataframe tbody tr th:only-of-type {\n",
       "        vertical-align: middle;\n",
       "    }\n",
       "\n",
       "    .dataframe tbody tr th {\n",
       "        vertical-align: top;\n",
       "    }\n",
       "\n",
       "    .dataframe thead th {\n",
       "        text-align: right;\n",
       "    }\n",
       "</style>\n",
       "<table border=\"1\" class=\"dataframe\">\n",
       "  <thead>\n",
       "    <tr style=\"text-align: right;\">\n",
       "      <th></th>\n",
       "      <th>Clustering Group 0</th>\n",
       "      <th>Clustering Group 1</th>\n",
       "      <th>Clustering Group 2</th>\n",
       "    </tr>\n",
       "  </thead>\n",
       "  <tbody>\n",
       "    <tr>\n",
       "      <th>Group 0</th>\n",
       "      <td>9</td>\n",
       "      <td>0</td>\n",
       "      <td>11</td>\n",
       "    </tr>\n",
       "    <tr>\n",
       "      <th>Group 1</th>\n",
       "      <td>3</td>\n",
       "      <td>3</td>\n",
       "      <td>14</td>\n",
       "    </tr>\n",
       "    <tr>\n",
       "      <th>Group 2</th>\n",
       "      <td>0</td>\n",
       "      <td>18</td>\n",
       "      <td>2</td>\n",
       "    </tr>\n",
       "  </tbody>\n",
       "</table>\n",
       "</div>"
      ],
      "text/plain": [
       "         Clustering Group 0  Clustering Group 1  Clustering Group 2\n",
       "Group 0                   9                   0                  11\n",
       "Group 1                   3                   3                  14\n",
       "Group 2                   0                  18                   2"
      ]
     },
     "execution_count": 114,
     "metadata": {},
     "output_type": "execute_result"
    }
   ],
   "source": [
    "kmeans_scale =KMeans(n_clusters = 3)\n",
    "kmeans_scale.fit(x_scaled)\n",
    "y_kmeans_scale = kmeans_scale.predict(x_scaled)\n",
    "\n",
    "outcome = pd.crosstab(y_true, y_kmeans_scale)\n",
    "outcome.columns = ['Clustering Group 0', 'Clustering Group 1', \n",
    "                   'Clustering Group 2']\n",
    "outcome.index = ['Group 0', 'Group 1', 'Group 2']\n",
    "outcome"
   ]
  },
  {
   "cell_type": "markdown",
   "metadata": {},
   "source": [
    "The results are very close to that in K-means clustering with K = 3. It perfroms well in group2, but not as well in the first two groups. It appears as though scale procedure does not change the results much."
   ]
  }
 ],
 "metadata": {
  "file_extension": ".py",
  "kernelspec": {
   "display_name": "Python 3",
   "language": "python",
   "name": "python3"
  },
  "language_info": {
   "codemirror_mode": {
    "name": "ipython",
    "version": 3
   },
   "file_extension": ".py",
   "mimetype": "text/x-python",
   "name": "python",
   "nbconvert_exporter": "python",
   "pygments_lexer": "ipython3",
   "version": "3.7.4"
  },
  "mimetype": "text/x-python",
  "name": "python",
  "npconvert_exporter": "python",
  "pygments_lexer": "ipython3",
  "version": 3
 },
 "nbformat": 4,
 "nbformat_minor": 2
}
