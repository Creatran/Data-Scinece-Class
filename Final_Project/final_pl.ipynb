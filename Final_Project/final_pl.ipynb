{
 "cells": [
  {
   "cell_type": "code",
   "execution_count": null,
   "metadata": {},
   "outputs": [],
   "source": [
    "plt.figure(figsize=(18, 18))\n",
    "sns.heatmap(wdbc_norm.corr(), annot = True)\n",
    "\n"
   ]
  },
  {
   "cell_type": "code",
   "execution_count": null,
   "metadata": {},
   "outputs": [],
   "source": [
    "The heatmap shows that there are some features strongly correlated with each other, so it is not necessary to use them all since one feature may present the same message with the other. For example: figure radius_mean, perimeter_mean and area_mean are correlated with each other. Compactness_mean, concavity_mean and concave points_mean are correlated with each other. Radius_se, perimeter_se and area_se are correlated. Radius_worst, perimeter_worst and area_worst are correlated. Compactness_worst, concavity_worst and concave points_worst are correlated. Compactness_se, concavity_se and concave points_se are correlated. Texture_mean and texture_worst are correlated. Area_worst and area_mean are correlated.\n"
   ]
  },
  {
   "cell_type": "code",
   "execution_count": null,
   "metadata": {},
   "outputs": [],
   "source": [
    "\n",
    "sns.jointplot(wdbc_norm.loc[:, 'concavity_worst'], wdbc_norm.loc[:, 'concave points_worst'], kind = 'reg').annotate(stats.pearsonr)"
   ]
  },
  {
   "cell_type": "code",
   "execution_count": null,
   "metadata": {},
   "outputs": [],
   "source": [
    "wdbc.groupby('diagnosis')['radius_mean'].plot(kind = 'hist', fontsize = 20, alpha = 0.5, bins = 30)\n",
    "plt.legend(['Benign', 'Malignant'])\n",
    "#locs, labels = xticks()\n",
    "#plt.xticks(['a', 'b'])\n",
    "plt.ylabel('count')\n",
    "plt.title('number of patients in different results')"
   ]
  },
  {
   "cell_type": "code",
   "execution_count": null,
   "metadata": {},
   "outputs": [],
   "source": [
    "#sns.set(style='white')\n",
    "df = wdbc.loc[:, ['radius_worst', 'perimeter_worst', 'area_worst']]\n",
    "g = sns.PairGrid(df, diag_sharey=False)\n",
    "g.map_lower(sns.kdeplot)\n",
    "g.map_upper(plt.scatter)\n",
    "g.map_diag(sns.kdeplot, lw = 3)"
   ]
  },
  {
   "cell_type": "code",
   "execution_count": null,
   "metadata": {},
   "outputs": [],
   "source": [
    "color_function = {'B':'blue', 'M':'red'}\n",
    "colors = wdbc['diagnosis'].map(lambda x: color_function.get(x))\n",
    "pd.plotting.scatter_matrix(wdbc[features_mean], c = colors, alpha = 0.5)"
   ]
  },
  {
   "cell_type": "code",
   "execution_count": null,
   "metadata": {},
   "outputs": [],
   "source": []
  },
  {
   "cell_type": "code",
   "execution_count": null,
   "metadata": {},
   "outputs": [],
   "source": []
  },
  {
   "cell_type": "code",
   "execution_count": null,
   "metadata": {},
   "outputs": [],
   "source": []
  },
  {
   "cell_type": "code",
   "execution_count": null,
   "metadata": {},
   "outputs": [],
   "source": []
  }
 ],
 "metadata": {
  "file_extension": ".py",
  "kernelspec": {
   "display_name": "Python 3",
   "language": "python",
   "name": "python3"
  },
  "language_info": {
   "codemirror_mode": {
    "name": "ipython",
    "version": 3
   },
   "file_extension": ".py",
   "mimetype": "text/x-python",
   "name": "python",
   "nbconvert_exporter": "python",
   "pygments_lexer": "ipython3",
   "version": "3.7.4"
  },
  "mimetype": "text/x-python",
  "name": "python",
  "npconvert_exporter": "python",
  "pygments_lexer": "ipython3",
  "version": 3
 },
 "nbformat": 4,
 "nbformat_minor": 2
}
